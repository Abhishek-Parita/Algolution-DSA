{
 "cells": [
  {
   "cell_type": "code",
   "execution_count": 1,
   "metadata": {},
   "outputs": [
    {
     "name": "stdout",
     "output_type": "stream",
     "text": [
      "* \n",
      "* * \n",
      "* * * \n",
      "* * * * \n",
      "* * * * * \n"
     ]
    }
   ],
   "source": [
    "n=5\n",
    "for i in range(n):\n",
    "  for j in range(i+1):\n",
    "    print(\"*\",end=\" \")\n",
    "  print()"
   ]
  },
  {
   "cell_type": "code",
   "execution_count": 2,
   "metadata": {},
   "outputs": [
    {
     "name": "stdout",
     "output_type": "stream",
     "text": [
      "* \n",
      "* * \n",
      "* * * \n",
      "* * * * \n",
      "* * * * * \n",
      "* * * * \n",
      "* * * \n",
      "* * \n",
      "* \n",
      "\n"
     ]
    }
   ],
   "source": [
    "n=5\n",
    "for i in range(n):\n",
    "  for j in range(i+1):\n",
    "    print(\"*\",end=\" \")\n",
    "  print()\n",
    "for i in range(n):\n",
    "  for j in range(i,n-1):\n",
    "    print(\"*\",end=\" \")\n",
    "  print()"
   ]
  },
  {
   "cell_type": "code",
   "execution_count": 3,
   "metadata": {},
   "outputs": [
    {
     "name": "stdout",
     "output_type": "stream",
     "text": [
      "          * \n",
      "        * * * \n",
      "      * * * * * \n",
      "    * * * * * * * \n",
      "  * * * * * * * * * \n",
      "* * * * * * * * * * * \n",
      "  * * * * * * * * * \n",
      "    * * * * * * * \n",
      "      * * * * * \n",
      "        * * * \n",
      "          * \n"
     ]
    }
   ],
   "source": [
    "n=5\n",
    "for i in range(n+1):\n",
    "  for j in range(i,n):\n",
    "    print(\" \",end=\" \")\n",
    "  for j in range(i):\n",
    "    print(\"*\",end=\" \")\n",
    "  for j in range(i+1):\n",
    "    print(\"*\",end=\" \")\n",
    "  print()\n",
    "for i in range(n):\n",
    "  for j in range(i+1):\n",
    "    print(\" \",end=\" \")\n",
    "  for j in range(i,n):\n",
    "    print(\"*\",end=\" \")\n",
    "  for j in range(i,n-1):\n",
    "    print(\"*\",end=\" \")\n",
    "  print()"
   ]
  },
  {
   "cell_type": "code",
   "execution_count": 4,
   "metadata": {},
   "outputs": [
    {
     "name": "stdout",
     "output_type": "stream",
     "text": [
      "    * * * * * \n",
      "   * * * * * \n",
      "  * * * * * \n",
      " * * * * * \n",
      "* * * * * \n"
     ]
    }
   ],
   "source": [
    "n=5\n",
    "for i in range(n):\n",
    "  for j in range(i,n-1):\n",
    "    print(\" \",end=\"\")\n",
    "  for j in range(n):\n",
    "    print(\"*\",end=\" \")\n",
    "  print()"
   ]
  },
  {
   "cell_type": "code",
   "execution_count": 5,
   "metadata": {},
   "outputs": [
    {
     "name": "stdout",
     "output_type": "stream",
     "text": [
      "4\n"
     ]
    }
   ],
   "source": [
    "a = [1,2,-3,-4,6,7,4,-2,4,-10]\n",
    "count = 0\n",
    "for i in a:\n",
    "  if i<0:\n",
    "    count = count+1\n",
    "print(count)\n"
   ]
  },
  {
   "cell_type": "code",
   "execution_count": 6,
   "metadata": {},
   "outputs": [
    {
     "name": "stdout",
     "output_type": "stream",
     "text": [
      "900\n"
     ]
    }
   ],
   "source": [
    "def max_found(arr,n):\n",
    "  max = arr[0]\n",
    "  for i in range(1,n):\n",
    "    if arr[i] > max:\n",
    "      max = arr[i]\n",
    "  return max\n",
    "\n",
    "arr= [22,56,83,900,133]\n",
    "n = len(arr)\n",
    "a = max_found(arr,n)\n",
    "\n",
    "print(a)"
   ]
  },
  {
   "cell_type": "code",
   "execution_count": 7,
   "metadata": {},
   "outputs": [
    {
     "name": "stdout",
     "output_type": "stream",
     "text": [
      "ARRAY :  [4, 5, 6, 7]\n",
      "Reversed Arrat :  [7, 6, 5, 4]\n"
     ]
    }
   ],
   "source": [
    "def rev(arr):\n",
    "  left = 0\n",
    "  right = len(arr)-1\n",
    "  while(left<right):\n",
    "    temp = arr[left]\n",
    "    arr[left]=arr[right]\n",
    "    arr[right] = temp\n",
    "    left += 1\n",
    "    right -= 1\n",
    "  return arr\n",
    "\n",
    "n=int(input(\"Enter numbers \"))\n",
    "arr = []\n",
    "for i in range(n):\n",
    "  i = int(input(\"Enter array : \"))\n",
    "  arr.append(i)\n",
    "print(\"ARRAY : \",arr)\n",
    "print(\"Reversed Arrat : \",rev(arr))"
   ]
  },
  {
   "cell_type": "code",
   "execution_count": 10,
   "metadata": {},
   "outputs": [
    {
     "name": "stdout",
     "output_type": "stream",
     "text": [
      "<function search at 0x0000027A0CEABEC0>\n"
     ]
    }
   ],
   "source": [
    "def search(arr):\n",
    "  for i in range(arr):\n",
    "    if i == n:\n",
    "      return arr[i]\n",
    "  return -1\n",
    "\n",
    "n=int(input(\"Enter Number : \"))\n",
    "arr = [1,2,3,5,2]\n",
    "print(search)"
   ]
  }
 ],
 "metadata": {
  "kernelspec": {
   "display_name": "base",
   "language": "python",
   "name": "python3"
  },
  "language_info": {
   "codemirror_mode": {
    "name": "ipython",
    "version": 3
   },
   "file_extension": ".py",
   "mimetype": "text/x-python",
   "name": "python",
   "nbconvert_exporter": "python",
   "pygments_lexer": "ipython3",
   "version": "3.12.4"
  }
 },
 "nbformat": 4,
 "nbformat_minor": 2
}
