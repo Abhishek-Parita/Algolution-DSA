{
 "cells": [
  {
   "cell_type": "markdown",
   "metadata": {},
   "source": [
    "Naive Approach for Pair Sum"
   ]
  },
  {
   "cell_type": "code",
   "execution_count": 1,
   "metadata": {},
   "outputs": [
    {
     "name": "stdout",
     "output_type": "stream",
     "text": [
      "Yes\n"
     ]
    }
   ],
   "source": [
    "a = [1, 2, 4, 5, 7, 11]\n",
    "n = 6\n",
    "x = 9\n",
    "f = 0\n",
    "\n",
    "for i in range(n):\n",
    "    for j in range(i + 1, n):\n",
    "        if a[i] + a[j] == x:\n",
    "            f = 1\n",
    "            break\n",
    "\n",
    "if f == 1:\n",
    "    print(\"Yes\")\n",
    "else:\n",
    "    print(\"No\")\n"
   ]
  },
  {
   "cell_type": "markdown",
   "metadata": {},
   "source": [
    "Two Pointer Technique for Pair Sum\n"
   ]
  },
  {
   "cell_type": "code",
   "execution_count": 2,
   "metadata": {},
   "outputs": [
    {
     "name": "stdout",
     "output_type": "stream",
     "text": [
      "Yes\n"
     ]
    }
   ],
   "source": [
    "a = [1, 2, 4, 5, 7, 11]\n",
    "n = 6\n",
    "x = 9\n",
    "left = 0\n",
    "right = n - 1\n",
    "f = 0\n",
    "\n",
    "while left < right:\n",
    "    sum = a[left] + a[right]\n",
    "    if sum == x:\n",
    "        f += 1\n",
    "        break\n",
    "    elif sum < x:\n",
    "        left += 1\n",
    "    else:\n",
    "        right -= 1\n",
    "\n",
    "if f == 0:\n",
    "    print(\"No\")\n",
    "else:\n",
    "    print(\"Yes\")\n"
   ]
  },
  {
   "cell_type": "markdown",
   "metadata": {},
   "source": [
    "Equilibrium Index"
   ]
  },
  {
   "cell_type": "code",
   "execution_count": 10,
   "metadata": {},
   "outputs": [
    {
     "name": "stdout",
     "output_type": "stream",
     "text": [
      "Enter elements of the array:\n"
     ]
    },
    {
     "ename": "TypeError",
     "evalue": "'int' object is not callable",
     "output_type": "error",
     "traceback": [
      "\u001b[1;31m---------------------------------------------------------------------------\u001b[0m",
      "\u001b[1;31mTypeError\u001b[0m                                 Traceback (most recent call last)",
      "Cell \u001b[1;32mIn[10], line 10\u001b[0m\n\u001b[0;32m      8\u001b[0m f \u001b[38;5;241m=\u001b[39m \u001b[38;5;241m-\u001b[39m\u001b[38;5;241m1\u001b[39m\n\u001b[0;32m      9\u001b[0m \u001b[38;5;28;01mfor\u001b[39;00m i \u001b[38;5;129;01min\u001b[39;00m \u001b[38;5;28mrange\u001b[39m(n):\n\u001b[1;32m---> 10\u001b[0m     sum_left \u001b[38;5;241m=\u001b[39m \u001b[38;5;28msum\u001b[39m(a[:i])  \u001b[38;5;66;03m# Sum of elements to the left of index i\u001b[39;00m\n\u001b[0;32m     11\u001b[0m     sum_right \u001b[38;5;241m=\u001b[39m \u001b[38;5;28msum\u001b[39m(a[i \u001b[38;5;241m+\u001b[39m \u001b[38;5;241m1\u001b[39m:])  \u001b[38;5;66;03m# Sum of elements to the right of index i\u001b[39;00m\n\u001b[0;32m     12\u001b[0m     \u001b[38;5;28;01mif\u001b[39;00m sum_left \u001b[38;5;241m==\u001b[39m sum_right:\n",
      "\u001b[1;31mTypeError\u001b[0m: 'int' object is not callable"
     ]
    }
   ],
   "source": [
    "n = int(input(\"Enter the size of array: \"))\n",
    "a = []\n",
    "\n",
    "print(\"Enter elements of the array:\")\n",
    "for i in range(n):\n",
    "    a.append(int(input(f\"Element {i}: \")))\n",
    "\n",
    "f = -1\n",
    "for i in range(n):\n",
    "    sum_left = sum(a[:i])  # Sum of elements to the left of index i\n",
    "    sum_right = sum(a[i + 1:])  # Sum of elements to the right of index i\n",
    "    if sum_left == sum_right:\n",
    "        f = i + 1  # Found the equilibrium index (1-based)\n",
    "        break\n",
    "\n",
    "if f == -1:\n",
    "    print(\"No equilibrium index exists.\")\n",
    "else:\n",
    "    print(f\"Equilibrium index: {f}\")\n"
   ]
  },
  {
   "cell_type": "markdown",
   "metadata": {},
   "source": [
    "Count Pairs with a[i] > a[j]"
   ]
  },
  {
   "cell_type": "code",
   "execution_count": 5,
   "metadata": {},
   "outputs": [
    {
     "ename": "IndexError",
     "evalue": "list index out of range",
     "output_type": "error",
     "traceback": [
      "\u001b[1;31m---------------------------------------------------------------------------\u001b[0m",
      "\u001b[1;31mIndexError\u001b[0m                                Traceback (most recent call last)",
      "Cell \u001b[1;32mIn[5], line 7\u001b[0m\n\u001b[0;32m      5\u001b[0m \u001b[38;5;28;01mfor\u001b[39;00m i \u001b[38;5;129;01min\u001b[39;00m \u001b[38;5;28mrange\u001b[39m(n):\n\u001b[0;32m      6\u001b[0m     \u001b[38;5;28;01mfor\u001b[39;00m j \u001b[38;5;129;01min\u001b[39;00m \u001b[38;5;28mrange\u001b[39m(i \u001b[38;5;241m+\u001b[39m \u001b[38;5;241m1\u001b[39m, n):\n\u001b[1;32m----> 7\u001b[0m         \u001b[38;5;28;01mif\u001b[39;00m a[i] \u001b[38;5;241m>\u001b[39m a[j]:\n\u001b[0;32m      8\u001b[0m             \u001b[38;5;28mprint\u001b[39m(\u001b[38;5;124mf\u001b[39m\u001b[38;5;124m\"\u001b[39m\u001b[38;5;124m(\u001b[39m\u001b[38;5;132;01m{\u001b[39;00ma[i]\u001b[38;5;132;01m}\u001b[39;00m\u001b[38;5;124m,\u001b[39m\u001b[38;5;132;01m{\u001b[39;00ma[j]\u001b[38;5;132;01m}\u001b[39;00m\u001b[38;5;124m)\u001b[39m\u001b[38;5;124m\"\u001b[39m)\n\u001b[0;32m      9\u001b[0m             count \u001b[38;5;241m+\u001b[39m\u001b[38;5;241m=\u001b[39m \u001b[38;5;241m1\u001b[39m\n",
      "\u001b[1;31mIndexError\u001b[0m: list index out of range"
     ]
    }
   ],
   "source": [
    "n = int(input(\"Enter size of array: \"))\n",
    "a = list(map(int, input(\"Enter the values: \").split()))\n",
    "count = 0\n",
    "\n",
    "for i in range(n):\n",
    "    for j in range(i + 1, n):\n",
    "        if a[i] > a[j]:\n",
    "            print(f\"({a[i]},{a[j]})\")\n",
    "            count += 1\n",
    "\n",
    "print(f\"Count={count}\")\n"
   ]
  },
  {
   "cell_type": "markdown",
   "metadata": {},
   "source": [
    "Check Palindrome String (Ignoring Non-Alphanumeric Characters)"
   ]
  },
  {
   "cell_type": "code",
   "execution_count": 6,
   "metadata": {},
   "outputs": [
    {
     "name": "stdout",
     "output_type": "stream",
     "text": [
      "False\n"
     ]
    }
   ],
   "source": [
    "a = input(\"Enter a string: \")\n",
    "\n",
    "filtered_str = \"\"\n",
    "for char in a:\n",
    "    if ('a' <= char <= 'z') or ('A' <= char <= 'Z') or ('0' <= char <= '9'):\n",
    "        if 'A' <= char <= 'Z': \n",
    "            filtered_str += chr(ord(char) + 32)\n",
    "        else:\n",
    "            filtered_str += char\n",
    "\n",
    "is_palindrome = True\n",
    "n = len(filtered_str)\n",
    "for i in range(n // 2):\n",
    "    if filtered_str[i] != filtered_str[n - 1 - i]:\n",
    "        is_palindrome = False\n",
    "        break\n",
    "\n",
    "if is_palindrome:\n",
    "    print(\"True\")\n",
    "else:\n",
    "    print(\"False\")\n",
    "\n"
   ]
  },
  {
   "cell_type": "markdown",
   "metadata": {},
   "source": [
    "Max Profit from Stock Prices"
   ]
  },
  {
   "cell_type": "code",
   "execution_count": 7,
   "metadata": {},
   "outputs": [
    {
     "name": "stdout",
     "output_type": "stream",
     "text": [
      "Maximum profit: 5\n"
     ]
    }
   ],
   "source": [
    "def max_profit(arr):\n",
    "    if len(arr) <= 1:\n",
    "        return 0\n",
    "\n",
    "    min_price = arr[0]\n",
    "    max_profit = 0\n",
    "\n",
    "    for price in arr[1:]:\n",
    "        min_price = min(min_price, price)\n",
    "        profit = price - min_price\n",
    "        max_profit = max(max_profit, profit)\n",
    "\n",
    "    return max_profit\n",
    "\n",
    "arr = [7, 1, 5, 3, 6, 4]\n",
    "result = max_profit(arr)\n",
    "print(f\"Maximum profit: {result}\")\n"
   ]
  },
  {
   "cell_type": "markdown",
   "metadata": {},
   "source": [
    "Maximum Subarray Sum (Kadane's Algorithm)"
   ]
  },
  {
   "cell_type": "code",
   "execution_count": 8,
   "metadata": {},
   "outputs": [
    {
     "name": "stdout",
     "output_type": "stream",
     "text": [
      "The maximum subarray sum is 6\n"
     ]
    }
   ],
   "source": [
    "def max_subarray_sum(a):\n",
    "    sum = a[0]\n",
    "    max_sum = a[0]\n",
    "\n",
    "    for i in range(1, len(a)):\n",
    "        sum = max(a[i], sum + a[i])\n",
    "        max_sum = max(max_sum, sum)\n",
    "\n",
    "    return max_sum\n",
    "\n",
    "a = [-2, 1, -3, 4, -1, 2, 1, -5, 4]\n",
    "result = max_subarray_sum(a)\n",
    "print(f\"The maximum subarray sum is {result}\")\n"
   ]
  },
  {
   "cell_type": "markdown",
   "metadata": {},
   "source": [
    "Maximum Sum of K Consecutive Elements"
   ]
  },
  {
   "cell_type": "code",
   "execution_count": 9,
   "metadata": {},
   "outputs": [
    {
     "ename": "TypeError",
     "evalue": "'int' object is not callable",
     "output_type": "error",
     "traceback": [
      "\u001b[1;31m---------------------------------------------------------------------------\u001b[0m",
      "\u001b[1;31mTypeError\u001b[0m                                 Traceback (most recent call last)",
      "Cell \u001b[1;32mIn[9], line 8\u001b[0m\n\u001b[0;32m      6\u001b[0m \u001b[38;5;28;01melse\u001b[39;00m:\n\u001b[0;32m      7\u001b[0m     a \u001b[38;5;241m=\u001b[39m [\u001b[38;5;28mint\u001b[39m(\u001b[38;5;28minput\u001b[39m(\u001b[38;5;124mf\u001b[39m\u001b[38;5;124m\"\u001b[39m\u001b[38;5;124mEnter the value at position \u001b[39m\u001b[38;5;132;01m{\u001b[39;00mi\u001b[38;5;250m \u001b[39m\u001b[38;5;241m+\u001b[39m\u001b[38;5;250m \u001b[39m\u001b[38;5;241m1\u001b[39m\u001b[38;5;132;01m}\u001b[39;00m\u001b[38;5;124m: \u001b[39m\u001b[38;5;124m\"\u001b[39m)) \u001b[38;5;28;01mfor\u001b[39;00m i \u001b[38;5;129;01min\u001b[39;00m \u001b[38;5;28mrange\u001b[39m(n)]\n\u001b[1;32m----> 8\u001b[0m     \u001b[38;5;28msum\u001b[39m \u001b[38;5;241m=\u001b[39m \u001b[38;5;28msum\u001b[39m(a[:k])\n\u001b[0;32m      9\u001b[0m     max_sum \u001b[38;5;241m=\u001b[39m \u001b[38;5;28msum\u001b[39m\n\u001b[0;32m     11\u001b[0m     \u001b[38;5;28;01mfor\u001b[39;00m i \u001b[38;5;129;01min\u001b[39;00m \u001b[38;5;28mrange\u001b[39m(k, n):\n",
      "\u001b[1;31mTypeError\u001b[0m: 'int' object is not callable"
     ]
    }
   ],
   "source": [
    "n = int(input(\"Enter the size of array: \"))\n",
    "k = int(input(\"Enter the value of k: \"))\n",
    "\n",
    "if k > n:\n",
    "    print(\"Invalid index\")\n",
    "else:\n",
    "    a = [int(input(f\"Enter the value at position {i + 1}: \")) for i in range(n)]\n",
    "    sum = sum(a[:k])\n",
    "    max_sum = sum\n",
    "\n",
    "    for i in range(k, n):\n",
    "        sum += a[i] - a[i - k]\n",
    "        max_sum = max(max_sum, sum)\n",
    "\n",
    "    print(f\"Maximum of {k} consecutive elements is: {max_sum}\")\n"
   ]
  }
 ],
 "metadata": {
  "kernelspec": {
   "display_name": "base",
   "language": "python",
   "name": "python3"
  },
  "language_info": {
   "codemirror_mode": {
    "name": "ipython",
    "version": 3
   },
   "file_extension": ".py",
   "mimetype": "text/x-python",
   "name": "python",
   "nbconvert_exporter": "python",
   "pygments_lexer": "ipython3",
   "version": "3.12.4"
  }
 },
 "nbformat": 4,
 "nbformat_minor": 2
}
