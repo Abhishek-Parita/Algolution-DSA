{
 "cells": [
  {
   "cell_type": "code",
   "execution_count": 1,
   "metadata": {},
   "outputs": [
    {
     "name": "stdout",
     "output_type": "stream",
     "text": [
      "1\n"
     ]
    }
   ],
   "source": [
    "#creating function for factors (def Factors)\n",
    "def Factors(n):\n",
    "  factors = []\n",
    "  for i in range(2,(n//2)+1):\n",
    "    if n%i == 0:\n",
    "      factors.append(i)\n",
    "  factors.append(n) # we have done this because number is factor of itself\n",
    "  return factors\n",
    "\n",
    "# know create function where we check if the factore is square free or not\n",
    "def IsSquareFree(n):\n",
    "  SquareFree = True\n",
    "  for i in Factors(n):\n",
    "    if (i**0.5).is_integer():\n",
    "      SquareFree = False\n",
    "      break\n",
    "  return SquareFree\n",
    "\n",
    "n = int(input(\"Enter a number : \"))\n",
    "factors = Factors(n)\n",
    "\n",
    "# count loop is created to count how many square free factors are there\n",
    "count = 0\n",
    "for k in factors:\n",
    "  if IsSquareFree(k):\n",
    "    count+=1\n",
    "\n",
    "print(count)\n",
    "\n"
   ]
  },
  {
   "cell_type": "code",
   "execution_count": 2,
   "metadata": {},
   "outputs": [
    {
     "name": "stdout",
     "output_type": "stream",
     "text": [
      "[[1, 2], [2, 3], [3, 4], [4, 5], [5, 6], [6, 7], [7, 8]]\n",
      "Maximums From each list of kth length : [2, 3, 4, 5, 6, 7, 8]\n"
     ]
    }
   ],
   "source": [
    "# is this function we creating list of lists which length is equal to k.\n",
    "def sublists(arr, k):\n",
    "    result = []\n",
    "    for i in range(len(arr) - k + 1):\n",
    "        sublist = arr[i:i+k]\n",
    "        result.append(sublist)\n",
    "    return result\n",
    "# here in this function we are finding the max value from an list(array).\n",
    "def FindMax(l):\n",
    "  Max=l[0]\n",
    "  for i in range(len(l)):\n",
    "    if Max<l[i]:\n",
    "      Max = l[i]\n",
    "  return Max\n",
    "\n",
    "arr = [1, 2, 3, 4, 5, 6, 7, 8]\n",
    "k = int(input(\"Enter K : \"))\n",
    "print(sublists(arr, k))\n",
    "data = sublists(arr, k)\n",
    "\n",
    "# when we use this for loop it means that i will take [1,2,3].... as an element from data\n",
    "Maximums = []\n",
    "for i in data:\n",
    "  max = FindMax(i)\n",
    "  Maximums.append(max)\n",
    "print(f\"Maximums From each list of kth length : {Maximums}\")"
   ]
  }
 ],
 "metadata": {
  "kernelspec": {
   "display_name": "base",
   "language": "python",
   "name": "python3"
  },
  "language_info": {
   "codemirror_mode": {
    "name": "ipython",
    "version": 3
   },
   "file_extension": ".py",
   "mimetype": "text/x-python",
   "name": "python",
   "nbconvert_exporter": "python",
   "pygments_lexer": "ipython3",
   "version": "3.12.4"
  }
 },
 "nbformat": 4,
 "nbformat_minor": 2
}
